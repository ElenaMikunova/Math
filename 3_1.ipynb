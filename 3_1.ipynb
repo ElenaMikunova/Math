{
 "cells": [
  {
   "cell_type": "code",
   "execution_count": 19,
   "id": "d4df9711",
   "metadata": {},
   "outputs": [
    {
     "name": "stdout",
     "output_type": "stream",
     "text": [
      "(3736, 10000)\n",
      "Фактическая вероятность - 0.3736 \n",
      "Вероятность по расчетам - 0.375\n"
     ]
    }
   ],
   "source": [
    "import numpy as np\n",
    "import itertools\n",
    "import math\n",
    "\n",
    "k, n = 0, 10000\n",
    "a = np.random.randint(0, 2, n)\n",
    "b = np.random.randint(0, 2, n)\n",
    "c = np.random.randint(0, 2, n)\n",
    "d = np.random.randint(0, 2, n)\n",
    "x = a + b + c + d\n",
    "\n",
    "for i in range(0, n):\n",
    "    if x[i] == 2:\n",
    "        k = k + 1\n",
    "        \n",
    "ver = (math.factorial(4) / (math.factorial(2) * math.factorial(4-2))) * (0.5 ** 2) * (0.5 ** 2)\n",
    "        \n",
    "print(f\"{k, n}\\nФактическая вероятность - {k/n} \\nВероятность по расчетам - {ver}\")"
   ]
  },
  {
   "cell_type": "code",
   "execution_count": null,
   "id": "26a2f315",
   "metadata": {},
   "outputs": [],
   "source": []
  },
  {
   "cell_type": "code",
   "execution_count": null,
   "id": "5f9867bc",
   "metadata": {},
   "outputs": [],
   "source": []
  }
 ],
 "metadata": {
  "kernelspec": {
   "display_name": "Python 3",
   "language": "python",
   "name": "python3"
  },
  "language_info": {
   "codemirror_mode": {
    "name": "ipython",
    "version": 3
   },
   "file_extension": ".py",
   "mimetype": "text/x-python",
   "name": "python",
   "nbconvert_exporter": "python",
   "pygments_lexer": "ipython3",
   "version": "3.8.8"
  }
 },
 "nbformat": 4,
 "nbformat_minor": 5
}
