{
 "cells": [
  {
   "cell_type": "code",
   "execution_count": 30,
   "id": "6c57a7b5",
   "metadata": {},
   "outputs": [
    {
     "name": "stdout",
     "output_type": "stream",
     "text": [
      "Рассмотрим возможность выпадения 1 (орла) 7 раз из 8: \n",
      "(3124, 100000)\n",
      "Фактическая вероятность - 0.03124 \n",
      "Вероятность по расчетам - 0.03125\n"
     ]
    }
   ],
   "source": [
    "import numpy as np\n",
    "import itertools\n",
    "import math\n",
    "\n",
    "k, n = 0, 100000\n",
    "a = np.random.randint(0, 2, n)\n",
    "b = np.random.randint(0, 2, n)\n",
    "c = np.random.randint(0, 2, n)\n",
    "d = np.random.randint(0, 2, n)\n",
    "e = np.random.randint(0, 2, n)\n",
    "f = np.random.randint(0, 2, n)\n",
    "g = np.random.randint(0, 2, n)\n",
    "h = np.random.randint(0, 2, n)\n",
    "x = a + b + c + d + e + f + g + h\n",
    "\n",
    "for i in range(0, n):\n",
    "    if x[i] == 7:\n",
    "        k = k + 1\n",
    "        \n",
    "ver = (math.factorial(8) / (math.factorial(7) * math.factorial(8-7))) * (0.5 ** 7) * (0.5 ** (8-7))\n",
    "        \n",
    "print(f\"Рассмотрим возможность выпадения 1 (орла) 7 раз из 8: \\n{k, n}\\nФактическая вероятность - {k/n} \\nВероятность по расчетам - {ver}\")"
   ]
  },
  {
   "cell_type": "code",
   "execution_count": null,
   "id": "45f1b0fc",
   "metadata": {},
   "outputs": [],
   "source": []
  },
  {
   "cell_type": "code",
   "execution_count": null,
   "id": "0606f42d",
   "metadata": {},
   "outputs": [],
   "source": []
  }
 ],
 "metadata": {
  "kernelspec": {
   "display_name": "Python 3",
   "language": "python",
   "name": "python3"
  },
  "language_info": {
   "codemirror_mode": {
    "name": "ipython",
    "version": 3
   },
   "file_extension": ".py",
   "mimetype": "text/x-python",
   "name": "python",
   "nbconvert_exporter": "python",
   "pygments_lexer": "ipython3",
   "version": "3.8.8"
  }
 },
 "nbformat": 4,
 "nbformat_minor": 5
}
