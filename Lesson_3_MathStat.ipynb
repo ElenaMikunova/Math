{
 "cells": [
  {
   "cell_type": "code",
   "execution_count": 1,
   "id": "6be02b1a",
   "metadata": {},
   "outputs": [],
   "source": [
    "import numpy as np\n",
    "from math import sqrt"
   ]
  },
  {
   "cell_type": "markdown",
   "id": "e46999b8",
   "metadata": {},
   "source": [
    "# Задание 1"
   ]
  },
  {
   "cell_type": "code",
   "execution_count": 2,
   "id": "1592a9d0",
   "metadata": {},
   "outputs": [
    {
     "data": {
      "text/plain": [
       "(array([100,  80,  75,  77,  89,  33,  45,  25,  65,  17,  30,  24,  57,\n",
       "         55,  70,  75,  65,  84,  90, 150]),\n",
       " (20,))"
      ]
     },
     "execution_count": 2,
     "metadata": {},
     "output_type": "execute_result"
    }
   ],
   "source": [
    "a = np.array([100, 80, 75, 77, 89, 33, 45, 25, 65, 17, 30, 24, 57, 55, 70, 75, 65, 84, 90, 150])\n",
    "a, a.shape"
   ]
  },
  {
   "cell_type": "code",
   "execution_count": 3,
   "id": "d7671fbb",
   "metadata": {},
   "outputs": [
    {
     "name": "stdout",
     "output_type": "stream",
     "text": [
      "Среднее арифметическое: 65.3\n"
     ]
    }
   ],
   "source": [
    "print(f'Среднее арифметическое: {sum(a) / 20}')"
   ]
  },
  {
   "cell_type": "code",
   "execution_count": 4,
   "id": "f3554dc0",
   "metadata": {},
   "outputs": [
    {
     "name": "stdout",
     "output_type": "stream",
     "text": [
      "Проверяем среднее арифметическое: 65.3\n"
     ]
    }
   ],
   "source": [
    "print(f'Проверяем среднее арифметическое: {np.mean(a)}')"
   ]
  },
  {
   "cell_type": "code",
   "execution_count": 5,
   "id": "3702623e",
   "metadata": {},
   "outputs": [
    {
     "name": "stdout",
     "output_type": "stream",
     "text": [
      "Среднее квадратичное отклонение: 30.823854398825596\n"
     ]
    }
   ],
   "source": [
    "print(f'Среднее квадратичное отклонение: {sqrt(sum((x-sum(a)/len(a))**2 for x in a)/(len(a)))}')"
   ]
  },
  {
   "cell_type": "code",
   "execution_count": 6,
   "id": "5ac0c26d",
   "metadata": {},
   "outputs": [
    {
     "name": "stdout",
     "output_type": "stream",
     "text": [
      "Проверяем среднее квадратичное отклонение: 30.823854398825596\n"
     ]
    }
   ],
   "source": [
    "print(f'Проверяем среднее квадратичное отклонение: {np.std(a)}')"
   ]
  },
  {
   "cell_type": "code",
   "execution_count": 7,
   "id": "5034ebaa",
   "metadata": {},
   "outputs": [
    {
     "name": "stdout",
     "output_type": "stream",
     "text": [
      "Смещенная оценка дисперсии: 950.11\n"
     ]
    }
   ],
   "source": [
    "print(f'Смещенная оценка дисперсии: {sum((x-sum(a)/len(a))**2 for x in a)/(len(a))}')"
   ]
  },
  {
   "cell_type": "code",
   "execution_count": 8,
   "id": "8310153b",
   "metadata": {},
   "outputs": [
    {
     "name": "stdout",
     "output_type": "stream",
     "text": [
      "Проверяем смещенную оценку дисперсии: 950.11\n"
     ]
    }
   ],
   "source": [
    "print(f'Проверяем смещенную оценку дисперсии: {np.var(a)}')"
   ]
  },
  {
   "cell_type": "code",
   "execution_count": 9,
   "id": "a3f751f6",
   "metadata": {},
   "outputs": [
    {
     "name": "stdout",
     "output_type": "stream",
     "text": [
      "Несмещенная оценка дисперсии: 1000.1157894736842\n"
     ]
    }
   ],
   "source": [
    "print(f'Несмещенная оценка дисперсии: {sum((x-sum(a)/len(a))**2 for x in a)/(len(a) - 1)}')"
   ]
  },
  {
   "cell_type": "code",
   "execution_count": 10,
   "id": "54ad8f04",
   "metadata": {},
   "outputs": [
    {
     "name": "stdout",
     "output_type": "stream",
     "text": [
      "Проверяем несмещенную оценку дисперсии: 1000.1157894736842\n"
     ]
    }
   ],
   "source": [
    "print(f'Проверяем несмещенную оценку дисперсии: {np.var(a, ddof=1)}')"
   ]
  },
  {
   "cell_type": "markdown",
   "id": "9a88eed4",
   "metadata": {},
   "source": [
    "# Задание 2"
   ]
  },
  {
   "cell_type": "code",
   "execution_count": 11,
   "id": "023f45b2",
   "metadata": {},
   "outputs": [],
   "source": [
    "from math import factorial"
   ]
  },
  {
   "cell_type": "code",
   "execution_count": 12,
   "id": "843ea210",
   "metadata": {},
   "outputs": [],
   "source": [
    "def comb (n, k):\n",
    "    return int(factorial(n) / (factorial(k) * factorial(n - k)))"
   ]
  },
  {
   "cell_type": "markdown",
   "id": "ccb66b87",
   "metadata": {},
   "source": [
    "Три белых мяча можно вытащить следующими способами:\n",
    "1. Все три из 2-го ящика.\n",
    "2. 1 из первого, 2 из второго.\n",
    "3. 2 из первого, 1 из второго."
   ]
  },
  {
   "cell_type": "code",
   "execution_count": 13,
   "id": "02bbf517",
   "metadata": {},
   "outputs": [
    {
     "name": "stdout",
     "output_type": "stream",
     "text": [
      "Вероятность вытащить все три белых мяча из 2-го ящика: 0.01515151515151515\n"
     ]
    }
   ],
   "source": [
    "a = (comb(3, 2) / comb(8, 2)) * ((comb(5, 3) * comb(7, 1)) / comb(12, 4))\n",
    "print(f'Вероятность вытащить все три белых мяча из 2-го ящика: {a}')"
   ]
  },
  {
   "cell_type": "code",
   "execution_count": 14,
   "id": "39fd70a7",
   "metadata": {},
   "outputs": [
    {
     "name": "stdout",
     "output_type": "stream",
     "text": [
      "Вероятность вытащить 1 белый мяч из первого, а 2 - из второго ящика: 0.22727272727272727\n"
     ]
    }
   ],
   "source": [
    "b = ((comb(3, 1) * comb(5, 1)) / comb(8, 2)) * ((comb(5, 2) * comb(7, 2)) / comb(12, 4))\n",
    "print(f'Вероятность вытащить 1 белый мяч из первого, а 2 - из второго ящика: {b}')"
   ]
  },
  {
   "cell_type": "code",
   "execution_count": 15,
   "id": "367aa7cc",
   "metadata": {},
   "outputs": [
    {
     "name": "stdout",
     "output_type": "stream",
     "text": [
      "Вероятность вытащить 2 белых мяча из первого, а 1 - из второго ящика: 0.12626262626262627\n"
     ]
    }
   ],
   "source": [
    "c = (comb(5, 2) / comb(8, 2)) * ((comb(5, 1) * comb(7, 3)) / comb(12, 4))\n",
    "print(f'Вероятность вытащить 2 белых мяча из первого, а 1 - из второго ящика: {c}')"
   ]
  },
  {
   "cell_type": "code",
   "execution_count": 16,
   "id": "42ca65e9",
   "metadata": {},
   "outputs": [
    {
     "name": "stdout",
     "output_type": "stream",
     "text": [
      "Вероятность того, что все три мяча белые: 0.3686868686868687\n"
     ]
    }
   ],
   "source": [
    "print(f'Вероятность того, что все три мяча белые: {a + b + c}')"
   ]
  },
  {
   "cell_type": "markdown",
   "id": "56a2e4cc",
   "metadata": {},
   "source": [
    "# Задание 3"
   ]
  },
  {
   "cell_type": "code",
   "execution_count": 17,
   "id": "0f3ee704",
   "metadata": {},
   "outputs": [
    {
     "name": "stdout",
     "output_type": "stream",
     "text": [
      "Полная вероятность попадания в цель: 0.7666666666666666\n"
     ]
    }
   ],
   "source": [
    "pA = 0.9*1/3 + 0.8*1/3 + 0.6*1/3\n",
    "print(f'Полная вероятность попадания в цель: {pA}')"
   ]
  },
  {
   "cell_type": "code",
   "execution_count": 18,
   "id": "8631fbc1",
   "metadata": {},
   "outputs": [
    {
     "name": "stdout",
     "output_type": "stream",
     "text": [
      "Вероятность того, что выстрел произвел первый спортсмен: 0.391304347826087\n"
     ]
    }
   ],
   "source": [
    "p1 = 0.9 * 1/3 / pA\n",
    "print(f'Вероятность того, что выстрел произвел первый спортсмен: {p1}')"
   ]
  },
  {
   "cell_type": "code",
   "execution_count": 19,
   "id": "c9f6d5e5",
   "metadata": {},
   "outputs": [
    {
     "name": "stdout",
     "output_type": "stream",
     "text": [
      "Вероятность того, что выстрел произвел второй спортсмен: 0.3478260869565218\n"
     ]
    }
   ],
   "source": [
    "p2 = 0.8 * 1/3 / pA\n",
    "print(f'Вероятность того, что выстрел произвел второй спортсмен: {p2}')"
   ]
  },
  {
   "cell_type": "code",
   "execution_count": 20,
   "id": "b7deb6d5",
   "metadata": {},
   "outputs": [
    {
     "name": "stdout",
     "output_type": "stream",
     "text": [
      "Вероятность того, что выстрел произвел третий спортсмен: 0.2608695652173913\n"
     ]
    }
   ],
   "source": [
    "p3 = 0.6 * 1/3 / pA\n",
    "print(f'Вероятность того, что выстрел произвел третий спортсмен: {p3}')"
   ]
  },
  {
   "cell_type": "code",
   "execution_count": 21,
   "id": "c67c507c",
   "metadata": {},
   "outputs": [
    {
     "name": "stdout",
     "output_type": "stream",
     "text": [
      "Проверяем сумму вероятностей: 1.0\n"
     ]
    }
   ],
   "source": [
    "print(f'Проверяем сумму вероятностей: {p1 + p2 + p3}')"
   ]
  },
  {
   "cell_type": "markdown",
   "id": "d912bedc",
   "metadata": {},
   "source": [
    "# Задание 4"
   ]
  },
  {
   "cell_type": "markdown",
   "id": "7aa0a088",
   "metadata": {},
   "source": [
    "Решается по аналогии с предыдущим заданием."
   ]
  },
  {
   "cell_type": "code",
   "execution_count": 22,
   "id": "171799da",
   "metadata": {},
   "outputs": [
    {
     "name": "stdout",
     "output_type": "stream",
     "text": [
      "Полная вероятность сдачи сессии: 0.825\n"
     ]
    }
   ],
   "source": [
    "pA = 0.8*1/4 + 0.7*1/4 + 0.9*1/2\n",
    "print(f'Полная вероятность сдачи сессии: {pA}')"
   ]
  },
  {
   "cell_type": "code",
   "execution_count": 23,
   "id": "7a12dd9e",
   "metadata": {},
   "outputs": [
    {
     "name": "stdout",
     "output_type": "stream",
     "text": [
      "Вероятность того, что студент учился на факультете А: 0.24242424242424246\n"
     ]
    }
   ],
   "source": [
    "p11 = 0.8 * 1/4 / pA\n",
    "print(f'Вероятность того, что студент учился на факультете А: {p11}')"
   ]
  },
  {
   "cell_type": "code",
   "execution_count": 24,
   "id": "6252709c",
   "metadata": {},
   "outputs": [
    {
     "name": "stdout",
     "output_type": "stream",
     "text": [
      "Вероятность того, что студент учился на факультете B: 0.21212121212121213\n"
     ]
    }
   ],
   "source": [
    "p22 = 0.7 * 1/4 / pA\n",
    "print(f'Вероятность того, что студент учился на факультете B: {p22}')"
   ]
  },
  {
   "cell_type": "code",
   "execution_count": 25,
   "id": "415b99c5",
   "metadata": {},
   "outputs": [
    {
     "name": "stdout",
     "output_type": "stream",
     "text": [
      "Вероятность того, что студент учился на факультете C: 0.5454545454545455\n"
     ]
    }
   ],
   "source": [
    "p33 = 0.9 * 1/2 / pA\n",
    "print(f'Вероятность того, что студент учился на факультете C: {p33}')"
   ]
  },
  {
   "cell_type": "code",
   "execution_count": 26,
   "id": "0f496ed9",
   "metadata": {},
   "outputs": [
    {
     "name": "stdout",
     "output_type": "stream",
     "text": [
      "Проверяем сумму вероятностей: 1.0\n"
     ]
    }
   ],
   "source": [
    "print(f'Проверяем сумму вероятностей: {p11 + p22 + p33}')"
   ]
  },
  {
   "cell_type": "markdown",
   "id": "b444f24a",
   "metadata": {},
   "source": [
    "# Задание 5"
   ]
  },
  {
   "cell_type": "code",
   "execution_count": 27,
   "id": "8fc58720",
   "metadata": {},
   "outputs": [
    {
     "name": "stdout",
     "output_type": "stream",
     "text": [
      "Вероятность того, что все детали выйдут из строя: 0.005000000000000001\n"
     ]
    }
   ],
   "source": [
    "pa = 0.1 * 0.2 * 0.25\n",
    "print(f'Вероятность того, что все детали выйдут из строя: {pa}')"
   ]
  },
  {
   "cell_type": "code",
   "execution_count": 28,
   "id": "eb50caca",
   "metadata": {},
   "outputs": [
    {
     "name": "stdout",
     "output_type": "stream",
     "text": [
      "Вероятность того, что две детали выйдут из строя: 0.08000000000000002\n"
     ]
    }
   ],
   "source": [
    "pb = 0.1 * 0.2 * 0.75 + 0.1 * 0.8 * 0.25 + 0.9 * 0.2 * 0.25\n",
    "print(f'Вероятность того, что две детали выйдут из строя: {pb}')"
   ]
  },
  {
   "cell_type": "code",
   "execution_count": 29,
   "id": "8d1497d7",
   "metadata": {},
   "outputs": [
    {
     "name": "stdout",
     "output_type": "stream",
     "text": [
      "Вероятность того, что хотя бы одна деталь выйдет из строя: 0.45999999999999996\n"
     ]
    }
   ],
   "source": [
    "pc = 1 - 0.9 * 0.8 * 0.75\n",
    "print(f'Вероятность того, что хотя бы одна деталь выйдет из строя: {pc}')"
   ]
  },
  {
   "cell_type": "code",
   "execution_count": 30,
   "id": "7284b952",
   "metadata": {},
   "outputs": [
    {
     "name": "stdout",
     "output_type": "stream",
     "text": [
      "Вероятность того, что от одной до двух деталей выйдут из строя: 0.45499999999999996\n"
     ]
    }
   ],
   "source": [
    "pd = 1 - 0.9 * 0.8 * 0.75 - 0.1 * 0.2 * 0.25\n",
    "print(f'Вероятность того, что от одной до двух деталей выйдут из строя: {pd}')"
   ]
  }
 ],
 "metadata": {
  "kernelspec": {
   "display_name": "Python 3 (ipykernel)",
   "language": "python",
   "name": "python3"
  },
  "language_info": {
   "codemirror_mode": {
    "name": "ipython",
    "version": 3
   },
   "file_extension": ".py",
   "mimetype": "text/x-python",
   "name": "python",
   "nbconvert_exporter": "python",
   "pygments_lexer": "ipython3",
   "version": "3.9.12"
  }
 },
 "nbformat": 4,
 "nbformat_minor": 5
}
