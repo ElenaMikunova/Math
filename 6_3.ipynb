{
 "cells": [
  {
   "cell_type": "code",
   "execution_count": 45,
   "id": "93d563d5",
   "metadata": {},
   "outputs": [
    {
     "name": "stdout",
     "output_type": "stream",
     "text": [
      "[[ 1  2  3 12]\n",
      " [ 4  5  6  2]\n",
      " [ 7  8  9  1]]\n",
      "Ранг исходной матрицы - 2, ранг расширенной матрицы - 3. \n",
      "Соответственно, система не имеет решений.\n",
      "Тогда поменяем вектор правой части, чтобы система стала совместной. Например, вот так:\n",
      "[[ 1  2  3  4]\n",
      " [ 4  5  6  7]\n",
      " [ 7  8  9 10]]\n",
      "Ранги: 2, 2\n",
      "Поскольку ранги теперь равны, но меньше числа неизвестных, решений будет бесконечно много (см. тетрадь).\n"
     ]
    }
   ],
   "source": [
    "import numpy as np\n",
    "import matplotlib.pyplot as plt\n",
    "\n",
    "A = np.array([[1, 2, 3], [4, 5, 6], [7, 8, 9]])\n",
    "B = np.array([[12, 2, 1]])\n",
    "C = np.concatenate((A,B.T), axis=1)\n",
    "print(C)\n",
    "print(f\"Ранг исходной матрицы - {np.linalg.matrix_rank(A, 0000.1)}, ранг расширенной матрицы - {np.linalg.matrix_rank(C, 0000.1)}. \\nСоответственно, система не имеет решений.\\nТогда поменяем вектор правой части, чтобы система стала совместной. Например, вот так:\")\n",
    "\n",
    "X = np.array([[1, 2, 3], [4, 5, 6], [7, 8, 9]])\n",
    "Y = np.array([[4, 7, 10]])\n",
    "Z = np.concatenate((X,Y.T), axis=1)\n",
    "print(Z)\n",
    "print(f\"Ранги: {np.linalg.matrix_rank(X, 0000.1)}, {np.linalg.matrix_rank(Z, 0000.1)}\")\n",
    "print(\"Поскольку ранги теперь равны, но меньше числа неизвестных, решений будет бесконечно много (см. тетрадь).\")"
   ]
  },
  {
   "cell_type": "code",
   "execution_count": null,
   "id": "fd67e843",
   "metadata": {},
   "outputs": [],
   "source": []
  },
  {
   "cell_type": "code",
   "execution_count": null,
   "id": "21486645",
   "metadata": {},
   "outputs": [],
   "source": []
  }
 ],
 "metadata": {
  "kernelspec": {
   "display_name": "Python 3",
   "language": "python",
   "name": "python3"
  },
  "language_info": {
   "codemirror_mode": {
    "name": "ipython",
    "version": 3
   },
   "file_extension": ".py",
   "mimetype": "text/x-python",
   "name": "python",
   "nbconvert_exporter": "python",
   "pygments_lexer": "ipython3",
   "version": "3.8.8"
  }
 },
 "nbformat": 4,
 "nbformat_minor": 5
}
