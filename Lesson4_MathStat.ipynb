{
 "cells": [
  {
   "cell_type": "markdown",
   "id": "502d7bcd",
   "metadata": {},
   "source": [
    "# Задание 1"
   ]
  },
  {
   "cell_type": "code",
   "execution_count": 1,
   "id": "d3220625",
   "metadata": {},
   "outputs": [
    {
     "name": "stdout",
     "output_type": "stream",
     "text": [
      "Среднее значение: 500.0\n",
      "Дисперсия: 30000.0\n"
     ]
    }
   ],
   "source": [
    "M = (200 + 800) / 2\n",
    "D = (800-200)**2 / 12\n",
    "print(f'Среднее значение: {M}\\nДисперсия: {D}')"
   ]
  },
  {
   "cell_type": "markdown",
   "id": "f41e3855",
   "metadata": {},
   "source": [
    "# Задание 2"
   ]
  },
  {
   "cell_type": "markdown",
   "id": "1922d246",
   "metadata": {},
   "source": [
    "Да, можно.\n",
    "D = (b - a)**2 / 12"
   ]
  },
  {
   "cell_type": "markdown",
   "id": "15fd29fc",
   "metadata": {},
   "source": [
    "(b - 0.5)**2 / 12 = 0.2"
   ]
  },
  {
   "cell_type": "markdown",
   "id": "6558562b",
   "metadata": {},
   "source": [
    "(b - 0.5)**2 = 2.4"
   ]
  },
  {
   "cell_type": "markdown",
   "id": "b3462588",
   "metadata": {},
   "source": [
    "b - 0.5 = +-1.55 - для определения правой границы подходит только число +1.55, соответственно:"
   ]
  },
  {
   "cell_type": "markdown",
   "id": "63df2601",
   "metadata": {},
   "source": [
    "b = 2.05"
   ]
  },
  {
   "cell_type": "code",
   "execution_count": 2,
   "id": "ffcb03c6",
   "metadata": {},
   "outputs": [
    {
     "name": "stdout",
     "output_type": "stream",
     "text": [
      "Среднее значение: 1.275\n"
     ]
    }
   ],
   "source": [
    "M1 = (0.5 + 2.05) / 2\n",
    "print(f'Среднее значение: {M1}')"
   ]
  },
  {
   "cell_type": "markdown",
   "id": "508066b3",
   "metadata": {},
   "source": [
    "# Задание 3"
   ]
  },
  {
   "cell_type": "markdown",
   "id": "e7796dab",
   "metadata": {},
   "source": [
    "f(x) = (1 / (4 * sqrt(2*pi))) * (exp***(-((x+2)**2) / 32)"
   ]
  },
  {
   "cell_type": "markdown",
   "id": "d44c483a",
   "metadata": {},
   "source": [
    "std(x) = 4   \n",
    "D(x) = 16   \n",
    "M(x) = -2"
   ]
  },
  {
   "cell_type": "markdown",
   "id": "9cd4d2d4",
   "metadata": {},
   "source": [
    "# Задание 4"
   ]
  },
  {
   "cell_type": "markdown",
   "id": "0eb8bf99",
   "metadata": {},
   "source": [
    "Рост взрослого населения города X имеет нормальное распределение.\n",
    "Причем, средний рост равен 174 см, а среднее квадратичное отклонение равно 8 см.\n",
    "Какова вероятность того, что случайным образом выбранный взрослый человек имеет рост:\n",
    "а). больше 182 см\n",
    "б). больше 190 см\n",
    "в). от 166 см до 190 см\n",
    "г). от 166 см до 182 см\n",
    "д). от 158 см до 190 см\n",
    "е). не выше 150 см или не ниже 190 см\n",
    "ё). не выше 150 см или не ниже 198 см\n",
    "ж). ниже 166 см."
   ]
  },
  {
   "cell_type": "markdown",
   "id": "64019920",
   "metadata": {},
   "source": [
    "a). Больше 1 сигмы: 15.87%   \n",
    "б). Больше 2 сигм: 2.28%   \n",
    "в). От -1 до 2 сигм: 100% - 2.28% - 15.87% = 81.85%   \n",
    "г). От -1 до 1 сигм: 100% - 15.87% * 2 = 68.26%    \n",
    "д). От -2 до 2 сигм: 100% - 2.28% * 2 = 95.44%   \n",
    "е). Или меньше -3 сигм, или больше 2 сигм: 0.13% + 2.28% = 2.41%   \n",
    "ё). Или меньше -3 сигм, или больше 3 сигм: 0.13% * 2 = 0.26%   \n",
    "ж). Меньше 1 сигмы: 15.87%   "
   ]
  },
  {
   "cell_type": "markdown",
   "id": "bb5bac05",
   "metadata": {},
   "source": [
    "# Задание 5"
   ]
  },
  {
   "cell_type": "markdown",
   "id": "fbbedb77",
   "metadata": {},
   "source": [
    "При D(x) = 25 std = 5"
   ]
  },
  {
   "cell_type": "code",
   "execution_count": 3,
   "id": "891352d0",
   "metadata": {},
   "outputs": [
    {
     "name": "stdout",
     "output_type": "stream",
     "text": [
      "Рост человека отклоняется на 2.4 сигм\n"
     ]
    }
   ],
   "source": [
    "print(f'Рост человека отклоняется на {(190 - 178) / 5} сигм')"
   ]
  }
 ],
 "metadata": {
  "kernelspec": {
   "display_name": "Python 3 (ipykernel)",
   "language": "python",
   "name": "python3"
  },
  "language_info": {
   "codemirror_mode": {
    "name": "ipython",
    "version": 3
   },
   "file_extension": ".py",
   "mimetype": "text/x-python",
   "name": "python",
   "nbconvert_exporter": "python",
   "pygments_lexer": "ipython3",
   "version": "3.9.12"
  }
 },
 "nbformat": 4,
 "nbformat_minor": 5
}
