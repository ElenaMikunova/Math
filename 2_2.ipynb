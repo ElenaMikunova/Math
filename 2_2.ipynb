{
 "cells": [
  {
   "cell_type": "code",
   "execution_count": 61,
   "id": "3f3bd90e",
   "metadata": {},
   "outputs": [
    {
     "name": "stdout",
     "output_type": "stream",
     "text": [
      "[[0.57126361 0.61377724 0.62650849 0.96395469 0.99280005 0.77447033\n",
      "  0.18811357 0.48477938 0.54883727 0.0086971 ]\n",
      " [0.54335841 0.3308283  0.97161835 0.30584162 0.3463234  0.74338981\n",
      "  0.97982593 0.08528847 0.25900559 0.1165178 ]\n",
      " [0.9868749  0.21570404 0.18558532 0.44559678 0.61505217 0.85763502\n",
      "  0.54836885 0.02641835 0.50817682 0.33655216]\n",
      " [0.16378283 0.05734335 0.60890949 0.19806361 0.13433671 0.30776096\n",
      "  0.16169565 0.60894907 0.71707982 0.39589633]\n",
      " [0.50255266 0.7051986  0.07285608 0.95516935 0.5344275  0.14773568\n",
      "  0.96697553 0.46077149 0.21513433 0.69877603]\n",
      " [0.31624175 0.92088689 0.2156915  0.72271759 0.79871068 0.48526046\n",
      "  0.53666799 0.78718838 0.9225541  0.2873192 ]\n",
      " [0.89210063 0.46784213 0.10939104 0.72616514 0.73858732 0.559429\n",
      "  0.49432453 0.29065994 0.71519277 0.96087896]\n",
      " [0.79718502 0.33102792 0.04662273 0.13117731 0.40351838 0.87862994\n",
      "  0.87035435 0.85106937 0.43218286 0.43111701]\n",
      " [0.56693862 0.52466296 0.85597287 0.67306629 0.25221269 0.00932525\n",
      "  0.03422391 0.16208251 0.27621494 0.69694152]\n",
      " [0.54535193 0.69496964 0.52850258 0.54176788 0.17534357 0.6623937\n",
      "  0.0301978  0.97074836 0.93091735 0.08364657]] [5.88565035 4.86224109 4.22165845 5.66352026 4.99131247 5.42603015\n",
      " 4.81074813 4.72795533 5.52529585 4.01634267]\n"
     ]
    },
    {
     "data": {
      "image/png": "[encoded data removed]",
      "text/plain": [
       "<Figure size 432x288 with 1 Axes>"
      ]
     },
     "metadata": {
      "needs_background": "light"
     },
     "output_type": "display_data"
    }
   ],
   "source": [
    "%matplotlib inline\n",
    "import numpy as np\n",
    "import matplotlib.pyplot as plt\n",
    "import matplotlib.mlab as mlab\n",
    "\n",
    "y = np.random.rand(10, 10)\n",
    "x = sum(y)\n",
    "print(y, x)\n",
    "\n",
    "num_bins = 10\n",
    "n, bins, patches = plt.hist(x, num_bins)"
   ]
  },
  {
   "cell_type": "code",
   "execution_count": null,
   "id": "4359f35c",
   "metadata": {},
   "outputs": [],
   "source": []
  },
  {
   "cell_type": "code",
   "execution_count": null,
   "id": "d06bd64f",
   "metadata": {},
   "outputs": [],
   "source": []
  }
 ],
 "metadata": {
  "kernelspec": {
   "display_name": "Python 3",
   "language": "python",
   "name": "python3"
  },
  "language_info": {
   "codemirror_mode": {
    "name": "ipython",
    "version": 3
   },
   "file_extension": ".py",
   "mimetype": "text/x-python",
   "name": "python",
   "nbconvert_exporter": "python",
   "pygments_lexer": "ipython3",
   "version": "3.8.8"
  }
 },
 "nbformat": 4,
 "nbformat_minor": 5
}
