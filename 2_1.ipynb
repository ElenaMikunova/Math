{
 "cells": [
  {
   "cell_type": "code",
   "execution_count": 1,
   "id": "8f4fe1b3",
   "metadata": {},
   "outputs": [
    {
     "name": "stdout",
     "output_type": "stream",
     "text": [
      "Шанс выпадения опеделенного числа в рулетке - 1/37. \n",
      "Шанс выпадения одного из двух определенных чисел, по теореме сложения вероятностей, - 2/37.\n",
      "Возьмем выборку из 37000 вращенией рулетки: числа 0 и 1 в сумме должны выпасть 2000 раз.\n",
      "У нас получилось: 2005 раз.\n"
     ]
    }
   ],
   "source": [
    "%matplotlib inline\n",
    "import numpy as np\n",
    "\n",
    "n, m = 0, 0\n",
    "for i in range(37000):\n",
    "    x = np.random.randint(0, 37)\n",
    "    if x < 1:\n",
    "        n = n + 1\n",
    "    elif 2 > x > 0:\n",
    "        m = m + 1\n",
    "print(f\"Шанс выпадения опеделенного числа в рулетке - 1/37. \\nШанс выпадения одного из двух определенных чисел, по теореме сложения вероятностей, - 2/37.\\nВозьмем выборку из 37000 вращенией рулетки: числа 0 и 1 в сумме должны выпасть 2000 раз.\\nУ нас получилось: {n + m} раз.\")"
   ]
  },
  {
   "cell_type": "code",
   "execution_count": null,
   "id": "8ddea0a2",
   "metadata": {},
   "outputs": [],
   "source": []
  }
 ],
 "metadata": {
  "kernelspec": {
   "display_name": "Python 3",
   "language": "python",
   "name": "python3"
  },
  "language_info": {
   "codemirror_mode": {
    "name": "ipython",
    "version": 3
   },
   "file_extension": ".py",
   "mimetype": "text/x-python",
   "name": "python",
   "nbconvert_exporter": "python",
   "pygments_lexer": "ipython3",
   "version": "3.8.8"
  }
 },
 "nbformat": 4,
 "nbformat_minor": 5
}
