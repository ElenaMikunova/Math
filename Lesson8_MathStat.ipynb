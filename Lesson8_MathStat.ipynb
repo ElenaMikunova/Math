{
 "cells": [
  {
   "cell_type": "markdown",
   "id": "b01f5bc6",
   "metadata": {},
   "source": [
    "# Задание 1"
   ]
  },
  {
   "cell_type": "markdown",
   "id": "c875f3e1",
   "metadata": {},
   "source": [
    "Провести дисперсионный анализ для определения того, есть ли различия среднего роста среди взрослых футболистов, хоккеистов и штангистов. Даны значения роста в трех группах случайно выбранных спортсменов: Футболисты: 173, 175, 180, 178, 177, 185, 183, 182. Хоккеисты: 177, 179, 180, 188, 177, 172, 171, 184, 180. Штангисты: 172, 173, 169, 177, 166, 180, 178, 177, 172, 166, 170."
   ]
  },
  {
   "cell_type": "code",
   "execution_count": 1,
   "id": "7cdc643a",
   "metadata": {},
   "outputs": [],
   "source": [
    "import numpy as np\n",
    "from scipy import stats"
   ]
  },
  {
   "cell_type": "code",
   "execution_count": 2,
   "id": "b08c13c5",
   "metadata": {},
   "outputs": [
    {
     "data": {
      "text/plain": [
       "8"
      ]
     },
     "execution_count": 2,
     "metadata": {},
     "output_type": "execute_result"
    }
   ],
   "source": [
    "f = np.array([173, 175, 180, 178, 177, 185, 183, 182])\n",
    "len(f)"
   ]
  },
  {
   "cell_type": "code",
   "execution_count": 3,
   "id": "260b00f9",
   "metadata": {},
   "outputs": [
    {
     "data": {
      "text/plain": [
       "9"
      ]
     },
     "execution_count": 3,
     "metadata": {},
     "output_type": "execute_result"
    }
   ],
   "source": [
    "h = np.array([177, 179, 180, 188, 177, 172, 171, 184, 180])\n",
    "len(h)"
   ]
  },
  {
   "cell_type": "code",
   "execution_count": 4,
   "id": "4a27523c",
   "metadata": {},
   "outputs": [
    {
     "data": {
      "text/plain": [
       "11"
      ]
     },
     "execution_count": 4,
     "metadata": {},
     "output_type": "execute_result"
    }
   ],
   "source": [
    "sh = np.array([172, 173, 169, 177, 166, 180, 178, 177, 172, 166, 170])\n",
    "len(sh)"
   ]
  },
  {
   "cell_type": "code",
   "execution_count": 5,
   "id": "5634565f",
   "metadata": {},
   "outputs": [
    {
     "data": {
      "text/plain": [
       "F_onewayResult(statistic=5.500053450812596, pvalue=0.010482206918698694)"
      ]
     },
     "execution_count": 5,
     "metadata": {},
     "output_type": "execute_result"
    }
   ],
   "source": [
    "stats.f_oneway(f, h, sh)"
   ]
  },
  {
   "cell_type": "code",
   "execution_count": null,
   "id": "22130d67",
   "metadata": {},
   "outputs": [],
   "source": [
    "F-критерий Фишера при alpha=0.05 - 3.38.   \n",
    "statistic = 5.5 > 3.38, pvalue=0.01048 < alpha, значит, различия есть.\n",
    "При alpha=0.01 - 5.57.\n",
    "statistic = 5.5 < 5.57;  pvalue=0.01048 > alpha, значит, статистически значимых различий нет."
   ]
  }
 ],
 "metadata": {
  "kernelspec": {
   "display_name": "Python 3 (ipykernel)",
   "language": "python",
   "name": "python3"
  },
  "language_info": {
   "codemirror_mode": {
    "name": "ipython",
    "version": 3
   },
   "file_extension": ".py",
   "mimetype": "text/x-python",
   "name": "python",
   "nbconvert_exporter": "python",
   "pygments_lexer": "ipython3",
   "version": "3.9.12"
  }
 },
 "nbformat": 4,
 "nbformat_minor": 5
}
