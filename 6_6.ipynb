{
 "cells": [
  {
   "cell_type": "code",
   "execution_count": 1,
   "id": "b5f9a0ca",
   "metadata": {},
   "outputs": [
    {
     "name": "stdout",
     "output_type": "stream",
     "text": [
      "[[1 2 3]\n",
      " [4 5 6]\n",
      " [7 8 9]]\n",
      "\n",
      "[[-0.12309149  0.90453403  0.40824829]\n",
      " [-0.49236596  0.30151134 -0.81649658]\n",
      " [-0.86164044 -0.30151134  0.40824829]]\n",
      "\n",
      "[[-8.12403840e+00 -9.60113630e+00 -1.10782342e+01]\n",
      " [ 0.00000000e+00  9.04534034e-01  1.80906807e+00]\n",
      " [ 0.00000000e+00  0.00000000e+00 -1.11164740e-15]]\n",
      "\n",
      "[[1. 2. 3.]\n",
      " [4. 5. 6.]\n",
      " [7. 8. 9.]]\n",
      "\n",
      "[[ 1.00000000e+00 -5.26517217e-16 -2.55176183e-16]\n",
      " [-5.26517217e-16  1.00000000e+00  3.37757775e-16]\n",
      " [-2.55176183e-16  3.37757775e-16  1.00000000e+00]]\n",
      "\n",
      "[[-8.1240384  -9.6011363 ]\n",
      " [ 0.          0.90453403]]\n",
      "\n",
      "[-1.21860576e+01  8.54871729e-15]\n",
      "\n",
      "[1.50000000e+00 9.45096256e-15]\n",
      "\n",
      "[1.50000000e+00 9.45096256e-15 0.00000000e+00]\n",
      "\n",
      "1.2247448713915885\n"
     ]
    },
    {
     "data": {
      "text/plain": [
       "(array([ 1.25,  0.5 , -0.25]),\n",
       " array([], dtype=float64),\n",
       " 2,\n",
       " array([1.68481034e+01, 1.06836951e+00, 3.33475287e-16]))"
      ]
     },
     "execution_count": 1,
     "metadata": {},
     "output_type": "execute_result"
    }
   ],
   "source": [
    "import numpy as np\n",
    "\n",
    "A = np.array([[1, 2, 3], [4, 5, 6], [7, 8, 9]])\n",
    "B = np.array([2, 5, 11])\n",
    "Q, R = np.linalg.qr(A)\n",
    "\n",
    "print(f\"{A}\\n\\n{Q}\\n\\n{R}\")\n",
    "\n",
    "print(F\"\\n{np.dot(Q, R)}\\n\\n{np.dot(np.transpose(Q), Q)}\")\n",
    "\n",
    "R1 = R[:2, :2]\n",
    "print(f\"\\n{R1}\")\n",
    "\n",
    "B1 = np.dot(np.transpose(Q), B)[:2]\n",
    "print(f\"\\n{B1}\")\n",
    "\n",
    "X1 = np.linalg.solve(R1, B1)\n",
    "print(f\"\\n{X1}\")\n",
    "\n",
    "X = np.append(X1, 0)\n",
    "print(f\"\\n{X}\")\n",
    "np.linalg.norm(X)\n",
    "\n",
    "print(f\"\\n{np.linalg.norm(np.dot(A, X) - B)}\")\n",
    "\n",
    "np.linalg.lstsq(A, B, rcond=None)"
   ]
  },
  {
   "cell_type": "code",
   "execution_count": null,
   "id": "af87035e",
   "metadata": {},
   "outputs": [],
   "source": []
  }
 ],
 "metadata": {
  "kernelspec": {
   "display_name": "Python 3",
   "language": "python",
   "name": "python3"
  },
  "language_info": {
   "codemirror_mode": {
    "name": "ipython",
    "version": 3
   },
   "file_extension": ".py",
   "mimetype": "text/x-python",
   "name": "python",
   "nbconvert_exporter": "python",
   "pygments_lexer": "ipython3",
   "version": "3.8.8"
  }
 },
 "nbformat": 4,
 "nbformat_minor": 5
}
