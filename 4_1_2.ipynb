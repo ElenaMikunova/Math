%matplotlib inline
import numpy as np
import matplotlib.pyplot as plt
from scipy.optimize import fsolve
import math

x = np.linspace(-20, 20, 200)
plt.plot(x, (np.exp(x) + x - 1) / x)
plt.plot(x, x ** 2 - 1)
plt.grid(True)
plt.ylim(-2, 20)
plt.xlim(-5, 6)
    
def t(p):
    x, y = p
    return (y - x ** 2 + 1, np.exp(x) + x - x * y - 1)

x2, y2 = fsolve(t, (2, 5))
x1, y1 = fsolve(t, (-5, -2))
x3, y3 = fsolve(t, (4, 20))
print(f"Корни системы уравнений: \n {x1, y1} \n {x2, y2} \n {x3, y3}\n (0, -1)")
print("Система неравенств, соответственно, имеет следующие решения:\n y = x**2 - 1, при: \n x < -1.5818353528947415 \n 0 < x < 2.6181455730830665 \n x > 4.2001058411580505")
