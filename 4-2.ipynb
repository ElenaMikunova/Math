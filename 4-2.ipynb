{
 "cells": [
  {
   "cell_type": "code",
   "execution_count": 21,
   "id": "313215cd",
   "metadata": {},
   "outputs": [
    {
     "name": "stdout",
     "output_type": "stream",
     "text": [
      "2.7169884237242226 9.999675842919942e-08 11779\n"
     ]
    }
   ],
   "source": [
    "from math import lgamma\n",
    "import numpy as np\n",
    "import math\n",
    "\n",
    "def my_f(n):\n",
    "    return n/np.e**(lgamma(n + 1) / n)\n",
    "\n",
    "acc = 0.0000001\n",
    "i=2\n",
    "while(abs(my_f(i) - my_f(i-1))) > acc:\n",
    "    i +=1\n",
    "\n",
    "print(my_f(i), abs(my_f(i) - my_f(i-1)), i)"
   ]
  },
  {
   "cell_type": "code",
   "execution_count": null,
   "id": "db35cccc",
   "metadata": {},
   "outputs": [],
   "source": []
  },
  {
   "cell_type": "code",
   "execution_count": null,
   "id": "cbcbf942",
   "metadata": {},
   "outputs": [],
   "source": []
  }
 ],
 "metadata": {
  "kernelspec": {
   "display_name": "Python 3",
   "language": "python",
   "name": "python3"
  },
  "language_info": {
   "codemirror_mode": {
    "name": "ipython",
    "version": 3
   },
   "file_extension": ".py",
   "mimetype": "text/x-python",
   "name": "python",
   "nbconvert_exporter": "python",
   "pygments_lexer": "ipython3",
   "version": "3.8.8"
  }
 },
 "nbformat": 4,
 "nbformat_minor": 5
}
