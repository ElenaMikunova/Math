{
 "cells": [
  {
   "cell_type": "code",
   "execution_count": 8,
   "id": "7f992ffe",
   "metadata": {},
   "outputs": [
    {
     "name": "stdout",
     "output_type": "stream",
     "text": [
      "Введите полярные координаты (радиус и угол в градусах) через пробел: 10 60\n",
      "x = 5.00, y = 8.66\n"
     ]
    }
   ],
   "source": [
    "import numpy as np\n",
    "import math\n",
    "\n",
    "my_user = input(\"Введите полярные координаты (радиус и угол в градусах) через пробел: \").split()\n",
    "my_num = list(float(el) for el in my_user)\n",
    "n_rad = my_num[1] * np.pi / 180\n",
    "print(f\"x = {my_num[0] * np.cos(n_rad):0.2f}, y = {my_num[0] * np.sin(n_rad):0.2f}\")\n",
    "\n"
   ]
  },
  {
   "cell_type": "code",
   "execution_count": null,
   "id": "a8292500",
   "metadata": {},
   "outputs": [],
   "source": []
  },
  {
   "cell_type": "code",
   "execution_count": null,
   "id": "4ff640c5",
   "metadata": {},
   "outputs": [],
   "source": []
  }
 ],
 "metadata": {
  "kernelspec": {
   "display_name": "Python 3",
   "language": "python",
   "name": "python3"
  },
  "language_info": {
   "codemirror_mode": {
    "name": "ipython",
    "version": 3
   },
   "file_extension": ".py",
   "mimetype": "text/x-python",
   "name": "python",
   "nbconvert_exporter": "python",
   "pygments_lexer": "ipython3",
   "version": "3.8.8"
  }
 },
 "nbformat": 4,
 "nbformat_minor": 5
}
