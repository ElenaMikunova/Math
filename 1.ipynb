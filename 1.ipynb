{
 "cells": [
  {
   "cell_type": "code",
   "execution_count": 1,
   "id": "d47314d1",
   "metadata": {},
   "outputs": [
    {
     "name": "stdout",
     "output_type": "stream",
     "text": [
      "\n",
      "35\n",
      "\n",
      "2\n",
      "\n",
      "27\n",
      "\n",
      "21\n",
      "\n",
      "5\n",
      "\n",
      "16\n",
      "\n",
      "3\n",
      "\n",
      "22\n",
      "\n",
      "8\n",
      "\n",
      "21\n"
     ]
    }
   ],
   "source": [
    "%matplotlib inline\n",
    "import numpy as np\n",
    "\n",
    "for i in range(0, 10):\n",
    "    scroll = input()\n",
    "    print(np.random.randint(0, 37))"
   ]
  },
  {
   "cell_type": "code",
   "execution_count": null,
   "id": "a2e07975",
   "metadata": {},
   "outputs": [],
   "source": []
  }
 ],
 "metadata": {
  "kernelspec": {
   "display_name": "Python 3",
   "language": "python",
   "name": "python3"
  },
  "language_info": {
   "codemirror_mode": {
    "name": "ipython",
    "version": 3
   },
   "file_extension": ".py",
   "mimetype": "text/x-python",
   "name": "python",
   "nbconvert_exporter": "python",
   "pygments_lexer": "ipython3",
   "version": "3.8.8"
  }
 },
 "nbformat": 4,
 "nbformat_minor": 5
}
