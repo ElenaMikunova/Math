{
 "cells": [
  {
   "cell_type": "code",
   "execution_count": 46,
   "id": "6c57a7b5",
   "metadata": {},
   "outputs": [
    {
     "name": "stdout",
     "output_type": "stream",
     "text": [
      "Всего возможных размещений 3-х цифр из 5-ти - 60.\n",
      "Всего возможных сочетаний 3-х цифр из 5-ти - 10.\n",
      "012\n",
      "013\n",
      "014\n",
      "023\n",
      "024\n",
      "034\n",
      "123\n",
      "124\n",
      "134\n",
      "234\n"
     ]
    }
   ],
   "source": [
    "import numpy as np\n",
    "import itertools\n",
    "import math\n",
    "\n",
    "y = math.factorial(5) / math.factorial(5-3)\n",
    "print(f\"Всего возможных размещений 3-х цифр из 5-ти - {int(y)}.\")\n",
    "#for p in itertools.permutations(\"01234\", 3):\n",
    "    #print(''.join(str(x) for x in p))\n",
    "\n",
    "z = math.factorial(5) / (math.factorial(5-3) * math.factorial(3))\n",
    "print(f\"Всего возможных сочетаний 3-х цифр из 5-ти - {int(z)}.\")\n",
    "for p in itertools.combinations(\"01234\", 3):\n",
    "    print(''.join(p))\n",
    "    "
   ]
  },
  {
   "cell_type": "code",
   "execution_count": null,
   "id": "45f1b0fc",
   "metadata": {},
   "outputs": [],
   "source": []
  },
  {
   "cell_type": "code",
   "execution_count": null,
   "id": "0606f42d",
   "metadata": {},
   "outputs": [],
   "source": []
  }
 ],
 "metadata": {
  "kernelspec": {
   "display_name": "Python 3",
   "language": "python",
   "name": "python3"
  },
  "language_info": {
   "codemirror_mode": {
    "name": "ipython",
    "version": 3
   },
   "file_extension": ".py",
   "mimetype": "text/x-python",
   "name": "python",
   "nbconvert_exporter": "python",
   "pygments_lexer": "ipython3",
   "version": "3.8.8"
  }
 },
 "nbformat": 4,
 "nbformat_minor": 5
}
