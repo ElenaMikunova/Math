{
 "cells": [
  {
   "cell_type": "markdown",
   "id": "a300d991",
   "metadata": {},
   "source": [
    "# Задание 1"
   ]
  },
  {
   "cell_type": "markdown",
   "id": "b1587b38",
   "metadata": {},
   "source": [
    "Известно, что генеральная совокупность распределена нормально\n",
    "со средним квадратическим отклонением, равным 16.\n",
    "Найти доверительный интервал для оценки математического ожидания a с надежностью 0.95,\n",
    "если выборочная средняя M = 80, а объем выборки n = 256."
   ]
  },
  {
   "cell_type": "markdown",
   "id": "3e4701c5",
   "metadata": {},
   "source": [
    "a = 0.05  \n",
    "Z = 1.96   \n",
    "80 +- 1.96 * 16 / 256**0.5 = 80 +- 1.96, т.е. 78.04 < m < 81.96"
   ]
  },
  {
   "cell_type": "markdown",
   "id": "02d3f221",
   "metadata": {},
   "source": [
    "# Задание 2"
   ]
  },
  {
   "cell_type": "markdown",
   "id": "fb833ac6",
   "metadata": {},
   "source": [
    "В результате 10 независимых измерений некоторой величины X, выполненных с одинаковой точностью,\n",
    "получены опытные данные:   \n",
    "6.9, 6.1, 6.2, 6.8, 7.5, 6.3, 6.4, 6.9, 6.7, 6.1   \n",
    "Предполагая, что результаты измерений подчинены нормальному закону распределения вероятностей,\n",
    "оценить истинное значение величины X при помощи доверительного интервала, покрывающего это\n",
    "значение с доверительной вероятностью 0,95."
   ]
  },
  {
   "cell_type": "code",
   "execution_count": 1,
   "id": "553b8743",
   "metadata": {},
   "outputs": [
    {
     "data": {
      "text/plain": [
       "0.4508017549014448"
      ]
     },
     "execution_count": 1,
     "metadata": {},
     "output_type": "execute_result"
    }
   ],
   "source": [
    "import numpy as np\n",
    "x = np.array([6.9, 6.1, 6.2, 6.8, 7.5, 6.3, 6.4, 6.9, 6.7, 6.1])\n",
    "x.std(ddof=1)"
   ]
  },
  {
   "cell_type": "code",
   "execution_count": 2,
   "id": "631f391f",
   "metadata": {},
   "outputs": [
    {
     "data": {
      "text/plain": [
       "6.590000000000001"
      ]
     },
     "execution_count": 2,
     "metadata": {},
     "output_type": "execute_result"
    }
   ],
   "source": [
    "x.mean()"
   ]
  },
  {
   "cell_type": "markdown",
   "id": "ca54b14f",
   "metadata": {},
   "source": [
    "a = 0.05   \n",
    "t(a/2) = +-2.262   \n",
    "n = 10   \n",
    "std = 0.45   \n",
    "m = 6.59 "
   ]
  },
  {
   "cell_type": "code",
   "execution_count": 3,
   "id": "3e232f3d",
   "metadata": {},
   "outputs": [
    {
     "data": {
      "text/plain": [
       "6.911888243028539"
      ]
     },
     "execution_count": 3,
     "metadata": {},
     "output_type": "execute_result"
    }
   ],
   "source": [
    "6.59 + 2.262*0.45 / 10**0.5"
   ]
  },
  {
   "cell_type": "code",
   "execution_count": 4,
   "id": "18319b6f",
   "metadata": {},
   "outputs": [
    {
     "data": {
      "text/plain": [
       "6.268111756971461"
      ]
     },
     "execution_count": 4,
     "metadata": {},
     "output_type": "execute_result"
    }
   ],
   "source": [
    "6.59 - 2.262*0.45 / 10**0.5"
   ]
  },
  {
   "cell_type": "markdown",
   "id": "f4e60abb",
   "metadata": {},
   "source": [
    "[6.268; 6.912]"
   ]
  },
  {
   "cell_type": "markdown",
   "id": "e30df8e0",
   "metadata": {},
   "source": [
    "# Задание 3"
   ]
  },
  {
   "cell_type": "markdown",
   "id": "7a0c8791",
   "metadata": {},
   "source": [
    "Утверждается, что шарики для подшипников, изготовленные автоматическим станком, имеют средний диаметр 17 мм.\n",
    "Используя односторонний критерий с α=0,05, проверить эту гипотезу, если в выборке из n=100 шариков средний диаметр\n",
    "оказался равным 17.5 мм, а дисперсия известна и равна 4 кв. мм."
   ]
  },
  {
   "cell_type": "markdown",
   "id": "43084609",
   "metadata": {},
   "source": [
    "mu0 = 17   \n",
    "mu1 = 17.5   \n",
    "H1: mu1 > mu0   \n",
    "s = 1.645   \n",
    "std = 2   \n",
    "SE = 0.2   \n",
    "(17.5 - 17) / 0.2 = 0.5 / 0.2 = 2.5   \n",
    "2.5 > s, значит, гипотеза H1 верна, и средний диаметр не 17 мм.\n"
   ]
  },
  {
   "cell_type": "markdown",
   "id": "c4b3bffc",
   "metadata": {},
   "source": [
    "# Задание 4"
   ]
  },
  {
   "cell_type": "markdown",
   "id": "330679c6",
   "metadata": {},
   "source": [
    "Продавец утверждает, что средний вес пачки печенья составляет 200 г.\n",
    "Из партии извлечена выборка из 10 пачек. Вес каждой пачки составляет:\n",
    "202, 203, 199, 197, 195, 201, 200, 204, 194, 190.\n",
    "Известно, что их веса распределены нормально.\n",
    "Верно ли утверждение продавца, если учитывать, что доверительная вероятность равна 99%? (использовать двусторонний тест)"
   ]
  },
  {
   "cell_type": "code",
   "execution_count": 5,
   "id": "bbbc330c",
   "metadata": {},
   "outputs": [
    {
     "data": {
      "text/plain": [
       "4.453463071962462"
      ]
     },
     "execution_count": 5,
     "metadata": {},
     "output_type": "execute_result"
    }
   ],
   "source": [
    "y = np.array([202, 203, 199, 197, 195, 201, 200, 204, 194, 190])\n",
    "y.std(ddof=1)"
   ]
  },
  {
   "cell_type": "code",
   "execution_count": 6,
   "id": "a61fae5f",
   "metadata": {},
   "outputs": [
    {
     "data": {
      "text/plain": [
       "198.5"
      ]
     },
     "execution_count": 6,
     "metadata": {},
     "output_type": "execute_result"
    }
   ],
   "source": [
    "y.mean()"
   ]
  },
  {
   "cell_type": "markdown",
   "id": "12b7d961",
   "metadata": {},
   "source": [
    "mu0 = 200   \n",
    "H1: mu1 =/ mu0\n",
    "a = 0.01  \n",
    "t(a/2) = +-3.25\n",
    "n = 10    \n",
    "std = 4.45   \n",
    "mu1 = 198.5   "
   ]
  },
  {
   "cell_type": "code",
   "execution_count": 7,
   "id": "c095a40a",
   "metadata": {},
   "outputs": [
    {
     "data": {
      "text/plain": [
       "-1.0659362899443976"
      ]
     },
     "execution_count": 7,
     "metadata": {},
     "output_type": "execute_result"
    }
   ],
   "source": [
    "T = (198.5 - 200) / (4.45 / (10)**0.5)\n",
    "T"
   ]
  },
  {
   "cell_type": "markdown",
   "id": "fd556bdc",
   "metadata": {},
   "source": [
    "Соответственно, при а = 0.01 верна гипотеза Н0"
   ]
  }
 ],
 "metadata": {
  "kernelspec": {
   "display_name": "Python 3 (ipykernel)",
   "language": "python",
   "name": "python3"
  },
  "language_info": {
   "codemirror_mode": {
    "name": "ipython",
    "version": 3
   },
   "file_extension": ".py",
   "mimetype": "text/x-python",
   "name": "python",
   "nbconvert_exporter": "python",
   "pygments_lexer": "ipython3",
   "version": "3.9.12"
  }
 },
 "nbformat": 4,
 "nbformat_minor": 5
}
