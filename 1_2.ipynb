{
 "cells": [
  {
   "cell_type": "code",
   "execution_count": 19,
   "id": "6aac63a4",
   "metadata": {},
   "outputs": [
    {
     "name": "stdout",
     "output_type": "stream",
     "text": [
      "Введите координаты вектора через пробел: 1 2 3\n",
      "3.872983346207417\n"
     ]
    }
   ],
   "source": [
    "x = input(\"Введите координаты вектора через пробел: \").split()\n",
    "my_len = sum(list(float(el) ** 2 for el in x), 1) ** 0.5\n",
    "\n",
    "print(my_len)\n"
   ]
  },
  {
   "cell_type": "code",
   "execution_count": null,
   "id": "3ab66ad0",
   "metadata": {},
   "outputs": [],
   "source": []
  }
 ],
 "metadata": {
  "kernelspec": {
   "display_name": "Python 3",
   "language": "python",
   "name": "python3"
  },
  "language_info": {
   "codemirror_mode": {
    "name": "ipython",
    "version": 3
   },
   "file_extension": ".py",
   "mimetype": "text/x-python",
   "name": "python",
   "nbconvert_exporter": "python",
   "pygments_lexer": "ipython3",
   "version": "3.8.8"
  }
 },
 "nbformat": 4,
 "nbformat_minor": 5
}
